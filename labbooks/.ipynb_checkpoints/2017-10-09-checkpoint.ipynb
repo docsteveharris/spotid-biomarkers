{
 "cells": [
  {
   "cell_type": "code",
   "execution_count": null,
   "metadata": {
    "collapsed": true
   },
   "outputs": [],
   "source": [
    "library(data.table)\n",
    "library(readr)\n",
    "getwd()\n",
    "dt <- data.table(read_csv('../data/raw/spotid_ucl.csv'))\n",
    "head(dt)\n",
    "dim(dt)\n",
    "names(dt)"
   ]
  }
 ],
 "metadata": {
  "kernelspec": {
   "display_name": "R",
   "language": "R",
   "name": "ir"
  },
  "language_info": {
   "codemirror_mode": "r",
   "file_extension": ".r",
   "mimetype": "text/x-r-source",
   "name": "R",
   "pygments_lexer": "r",
   "version": "3.4.1"
  }
 },
 "nbformat": 4,
 "nbformat_minor": 2
}
