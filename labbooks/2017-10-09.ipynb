{
 "cells": [
  {
   "cell_type": "code",
   "execution_count": 1,
   "metadata": {},
   "outputs": [
    {
     "data": {
      "text/html": [
       "'/Users/steve/projects/ac-analysis-spotid/src1/labbooks'"
      ],
      "text/latex": [
       "'/Users/steve/projects/ac-analysis-spotid/src1/labbooks'"
      ],
      "text/markdown": [
       "'/Users/steve/projects/ac-analysis-spotid/src1/labbooks'"
      ],
      "text/plain": [
       "[1] \"/Users/steve/projects/ac-analysis-spotid/src1/labbooks\""
      ]
     },
     "metadata": {},
     "output_type": "display_data"
    },
    {
     "ename": "ERROR",
     "evalue": "Error: '../data/raw/spotid_ucl.csv' does not exist in current working directory ('/Users/steve/projects/ac-analysis-spotid/src1/labbooks').\n",
     "output_type": "error",
     "traceback": [
      "Error: '../data/raw/spotid_ucl.csv' does not exist in current working directory ('/Users/steve/projects/ac-analysis-spotid/src1/labbooks').\nTraceback:\n",
      "1. data.table(read_csv(\"../data/raw/spotid_ucl.csv\"))",
      "2. read_csv(\"../data/raw/spotid_ucl.csv\")",
      "3. read_delimited(file, tokenizer, col_names = col_names, col_types = col_types, \n .     locale = locale, skip = skip, comment = comment, n_max = n_max, \n .     guess_max = guess_max, progress = progress)",
      "4. standardise_path(file)",
      "5. check_path(path)",
      "6. stop(\"'\", path, \"' does not exist\", if (!is_absolute_path(path)) paste0(\" in current working directory ('\", \n .     getwd(), \"')\"), \".\", call. = FALSE)"
     ]
    }
   ],
   "source": [
    "library(data.table)\n",
    "library(readr)\n",
    "getwd()\n",
    "dt <- data.table(read_csv('../data/raw/spotid_ucl.csv'))"
   ]
  },
  {
   "cell_type": "code",
   "execution_count": null,
   "metadata": {
    "collapsed": true
   },
   "outputs": [],
   "source": [
    "library(ggplot2)"
   ]
  },
  {
   "cell_type": "code",
   "execution_count": null,
   "metadata": {},
   "outputs": [],
   "source": [
    "ggplot(data=dt, aes(x=hrate_orig)) + geom_density()"
   ]
  },
  {
   "cell_type": "code",
   "execution_count": null,
   "metadata": {
    "collapsed": true
   },
   "outputs": [],
   "source": []
  },
  {
   "cell_type": "code",
   "execution_count": null,
   "metadata": {
    "collapsed": true
   },
   "outputs": [],
   "source": []
  }
 ],
 "metadata": {
  "kernelspec": {
   "display_name": "R",
   "language": "R",
   "name": "ir"
  },
  "language_info": {
   "codemirror_mode": "r",
   "file_extension": ".r",
   "mimetype": "text/x-r-source",
   "name": "R",
   "pygments_lexer": "r",
   "version": "3.4.1"
  }
 },
 "nbformat": 4,
 "nbformat_minor": 2
}
